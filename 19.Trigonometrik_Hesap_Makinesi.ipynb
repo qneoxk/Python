{
 "cells": [
  {
   "cell_type": "markdown",
   "id": "7c1c746f-9b05-4215-9ecb-df83203cd8c4",
   "metadata": {},
   "source": [
    "# Trigonometrik HEsap Makinesi - 1"
   ]
  },
  {
   "cell_type": "code",
   "execution_count": 3,
   "id": "a4d91218-4abf-483f-b885-79e82de29e33",
   "metadata": {},
   "outputs": [
    {
     "name": "stdout",
     "output_type": "stream",
     "text": [
      "Trigonometrik Hesap Makinesi\n",
      "\n",
      "1. sin(x)\n",
      "2. cos(x)\n",
      "3. tan(x)\n",
      "4. arcsin(x)\n",
      "5. arccos(x)\n",
      "6. arctan(x)\n",
      "7. Radyan -> Derece\n",
      "8. Derece -> Radyan\n"
     ]
    },
    {
     "name": "stdin",
     "output_type": "stream",
     "text": [
      "Seçiminizi yapın (1-8):  1\n",
      "Açıyı derece cinsinden girin:  45\n"
     ]
    },
    {
     "name": "stdout",
     "output_type": "stream",
     "text": [
      "sin(45.0) = 0.70710678\n"
     ]
    }
   ],
   "source": [
    "import numpy as np\n",
    "\n",
    "def trig_calculator():\n",
    "    print(\"Trigonometrik Hesap Makinesi\")\n",
    "    print(\"\\n1. sin(x)\")\n",
    "    print(\"2. cos(x)\")\n",
    "    print(\"3. tan(x)\")\n",
    "    print(\"4. arcsin(x)\")\n",
    "    print(\"5. arccos(x)\")\n",
    "    print(\"6. arctan(x)\")\n",
    "    print(\"7. Radyan -> Derece\")\n",
    "    print(\"8. Derece -> Radyan\")\n",
    "\n",
    "    choice = input(\"Seçiminizi yapın (1-8): \")\n",
    "\n",
    "    if choice in ['1', '2', '3']:\n",
    "        açı_deg = float(input(\"Açıyı derece cinsinden girin: \"))\n",
    "        açı_rad = np.radians(açı_deg)\n",
    "        if choice == '1':\n",
    "            print(\"sin({}) = {:.8f}\".format(açı_deg, np.sin(açı_rad)))\n",
    "        elif choice == '2':\n",
    "            print(\"cos({}) = {:.8f}\".format(açı_deg, np.cos(açı_rad)))\n",
    "        elif choice == '3':\n",
    "            print(\"tan({}) = {:.8f}\".format(açı_deg, np.tan(açı_rad)))\n",
    "    elif choice in ['4', '5', '6']:\n",
    "        value = float(input(\"Trigonometrik değeri girin (aralık: -1 ile 1): \"))\n",
    "        if choice == '4':\n",
    "            print(\"arcsin({}) = {} derece\".format(value, np.degrees(np.arcsin(value))))\n",
    "        elif choice == '5':\n",
    "            print(\"arccos({}) = {} derece\".format(value, np.degrees(np.arccos(value))))\n",
    "        elif choice == '6':\n",
    "            print(\"arctan({}) = {} derece\".format(value, np.degrees(np.arctan(value))))\n",
    "    elif choice == '7':\n",
    "        rad = float(input(\"Radyan cinsinden açı: \"))\n",
    "        print(\"{} radyan = {} derece\".format(rad, np.degrees(rad)))\n",
    "    elif choice == '8':\n",
    "        deg = float(input(\"Derece cinsinden açı: \"))\n",
    "        print(\"{} derece = {} radyan\".format(deg, np.radians(deg)))\n",
    "    else:\n",
    "        print(\"Geçersiz seçim.\")\n",
    "\n",
    "# Kullanımı\n",
    "trig_calculator()"
   ]
  },
  {
   "cell_type": "markdown",
   "id": "b9956fb7-df20-41d7-a81b-4e4f4a722a92",
   "metadata": {},
   "source": [
    "# Trigonometrik HEsap makinesi - 2 "
   ]
  },
  {
   "cell_type": "code",
   "execution_count": 6,
   "id": "af7040cb-326f-499d-ba46-3ca9fb393732",
   "metadata": {},
   "outputs": [
    {
     "name": "stdout",
     "output_type": "stream",
     "text": [
      "\n",
      "Trigonometrik Hesap Makinesi\n",
      "\n",
      "╒═════════╤════════════╤═════════╤══════════════════╕\n",
      "│   Seçim │ Açıklama   │   Seçim │ Açıklama         │\n",
      "╞═════════╪════════════╪═════════╪══════════════════╡\n",
      "│       1 │ sin(x)     │       5 │ arccos(x)        │\n",
      "├─────────┼────────────┼─────────┼──────────────────┤\n",
      "│       2 │ cos(x)     │       6 │ arctan(x)        │\n",
      "├─────────┼────────────┼─────────┼──────────────────┤\n",
      "│       3 │ tan(x)     │       7 │ Radyan -> Derece │\n",
      "├─────────┼────────────┼─────────┼──────────────────┤\n",
      "│       4 │ arcsin(x)  │       8 │ Derece -> Radyan │\n",
      "╘═════════╧════════════╧═════════╧══════════════════╛\n"
     ]
    },
    {
     "name": "stdin",
     "output_type": "stream",
     "text": [
      "\n",
      "Seçiminizi yapın (1-8):  1\n",
      "Açıyı derece cinsinden girin:  45\n"
     ]
    },
    {
     "name": "stdout",
     "output_type": "stream",
     "text": [
      "sin(45.0) = 0.70710678\n"
     ]
    }
   ],
   "source": [
    "import numpy as np\n",
    "from tabulate import tabulate\n",
    "\n",
    "def trig_calculator():\n",
    "    table = [\n",
    "        [\"1\", \"sin(x)\",       \"5\", \"arccos(x)\"],\n",
    "        [\"2\", \"cos(x)\",       \"6\", \"arctan(x)\"],\n",
    "        [\"3\", \"tan(x)\",       \"7\", \"Radyan -> Derece\"],\n",
    "        [\"4\", \"arcsin(x)\",    \"8\", \"Derece -> Radyan\"]\n",
    "    ]\n",
    "\n",
    "    print(\"\\nTrigonometrik Hesap Makinesi\\n\")\n",
    "    print(tabulate(table, headers=[\"Seçim\", \"Açıklama\", \"Seçim\", \"Açıklama\"], tablefmt=\"fancy_grid\"))\n",
    "\n",
    "    choice = input(\"\\nSeçiminizi yapın (1-8): \")\n",
    "\n",
    "    if choice in ['1', '2', '3']:\n",
    "        açı_deg = float(input(\"Açıyı derece cinsinden girin: \"))\n",
    "        açı_rad = np.radians(açı_deg)\n",
    "        if choice == '1':\n",
    "            print(\"sin({}) = {:.8f}\".format(açı_deg, np.sin(açı_rad)))\n",
    "        elif choice == '2':\n",
    "            print(\"cos({}) = {:.8f}\".format(açı_deg, np.cos(açı_rad)))\n",
    "        elif choice == '3':\n",
    "            print(\"tan({}) = {:.8f}\".format(açı_deg, np.tan(açı_rad)))\n",
    "    elif choice in ['4', '5', '6']:\n",
    "        value = float(input(\"Trigonometrik değeri girin (aralık: -1 ile 1): \"))\n",
    "        if choice == '4':\n",
    "            print(\"arcsin({}) = {:.8f} derece\".format(value, np.degrees(np.arcsin(value))))\n",
    "        elif choice == '5':\n",
    "            print(\"arccos({}) = {:.8f} derece\".format(value, np.degrees(np.arccos(value))))\n",
    "        elif choice == '6':\n",
    "            print(\"arctan({}) = {:.8f} derece\".format(value, np.degrees(np.arctan(value))))\n",
    "    elif choice == '7':\n",
    "        rad = float(input(\"Radyan cinsinden açı: \"))\n",
    "        print(\"{} radyan = {:.8f} derece\".format(rad, np.degrees(rad)))\n",
    "    elif choice == '8':\n",
    "        deg = float(input(\"Derece cinsinden açı: \"))\n",
    "        print(\"{} derece = {:.8f} radyan\".format(deg, np.radians(deg)))\n",
    "    else:\n",
    "        print(\"Geçersiz seçim.\")\n",
    "\n",
    "# Fonksiyon çağrısı\n",
    "trig_calculator()"
   ]
  },
  {
   "cell_type": "markdown",
   "id": "14d40c9a-e12b-477b-8bbb-c3398c473148",
   "metadata": {},
   "source": [
    "# Trigonometrik Hesap Makinesi - 3 "
   ]
  },
  {
   "cell_type": "code",
   "execution_count": null,
   "id": "3260c24d-baa0-4310-8bd0-11794c8a9270",
   "metadata": {},
   "outputs": [],
   "source": [
    "import numpy as np\n",
    "from tabulate import tabulate\n",
    "\n",
    "def trig_calculator():\n",
    "    geçmiş = []\n",
    "\n",
    "    table = [\n",
    "        [\"1\", \"sin(x)\",       \"5\", \"arccos(x)\"],\n",
    "        [\"2\", \"cos(x)\",       \"6\", \"arctan(x)\"],\n",
    "        [\"3\", \"tan(x)\",       \"7\", \"Radyan -> Derece\"],\n",
    "        [\"4\", \"arcsin(x)\",    \"8\", \"Derece -> Radyan\"]\n",
    "    ]\n",
    "\n",
    "    print(\"\\nTrigonometrik Hesap Makinesi (çıkmak için 'q' yazın)\\n\")\n",
    "\n",
    "    while True:\n",
    "        print(tabulate(table, headers=[\"Seçim\", \"Açıklama\", \"Seçim\", \"Açıklama\"], tablefmt=\"fancy_grid\"))\n",
    "\n",
    "        choice = input(\"\\nSeçiminizi yapın (1-8 veya q): \").strip().lower()\n",
    "\n",
    "        if choice == 'q':\n",
    "            break\n",
    "\n",
    "        try:\n",
    "            if choice in ['1', '2', '3']:\n",
    "                açı_deg = float(input(\"Açıyı derece cinsinden girin: \"))\n",
    "                açı_rad = np.radians(açı_deg)\n",
    "                if choice == '1':\n",
    "                    result = np.sin(açı_rad)\n",
    "                    geçmiş.append(f\"sin({açı_deg}) = {result:.8f}\")\n",
    "                elif choice == '2':\n",
    "                    result = np.cos(açı_rad)\n",
    "                    geçmiş.append(f\"cos({açı_deg}) = {result:.8f}\")\n",
    "                elif choice == '3':\n",
    "                    result = np.tan(açı_rad)\n",
    "                    geçmiş.append(f\"tan({açı_deg}) = {result:.8f}\")\n",
    "            elif choice in ['4', '5', '6']:\n",
    "                value = float(input(\"Trigonometrik değeri girin (aralık: -1 ile 1): \"))\n",
    "                if choice == '4':\n",
    "                    result = np.degrees(np.arcsin(value))\n",
    "                    geçmiş.append(f\"arcsin({value}) = {result:.8f} derece\")\n",
    "                elif choice == '5':\n",
    "                    result = np.degrees(np.arccos(value))\n",
    "                    geçmiş.append(f\"arccos({value}) = {result:.8f} derece\")\n",
    "                elif choice == '6':\n",
    "                    result = np.degrees(np.arctan(value))\n",
    "                    geçmiş.append(f\"arctan({value}) = {result:.8f} derece\")\n",
    "            elif choice == '7':\n",
    "                rad = float(input(\"Radyan cinsinden açı: \"))\n",
    "                result = np.degrees(rad)\n",
    "                geçmiş.append(f\"{rad} radyan = {result:.8f} derece\")\n",
    "            elif choice == '8':\n",
    "                deg = float(input(\"Derece cinsinden açı: \"))\n",
    "                result = np.radians(deg)\n",
    "                geçmiş.append(f\"{deg} derece = {result:.8f} radyan\")\n",
    "            else:\n",
    "                print(\"Geçersiz seçim.\")\n",
    "        except ValueError:\n",
    "            print(\"Geçersiz sayı girdiniz.\")\n",
    "\n",
    "    # Hesaplama geçmişini ekrana yazdır\n",
    "    print(\"\\n📌 Yapılan Hesaplamalar:\")\n",
    "    if geçmiş:\n",
    "        for işlem in geçmiş:\n",
    "            print(\"•\", işlem)\n",
    "    else:\n",
    "        print(\"Hiçbir işlem yapılmadı.\")\n",
    "\n",
    "    # Geçmişi dosyaya kaydet\n",
    "    if geçmiş:\n",
    "        try:\n",
    "            with open(\"hesap_geçmişi.txt\", \"w\", encoding=\"utf-8\") as dosya:\n",
    "                dosya.write(\"Trigonometrik Hesap Makinesi Geçmişi\\n\\n\")\n",
    "                for işlem in geçmiş:\n",
    "                    dosya.write(f\"{işlem}\\n\")\n",
    "            print(\"\\n💾 Geçmiş başarıyla 'hesap_geçmişi.txt' dosyasına kaydedildi.\")\n",
    "        except Exception as e:\n",
    "            print(f\"Dosya kaydederken hata oluştu: {e}\")\n",
    "\n",
    "# Fonksiyon çağrısı\n",
    "trig_calculator()"
   ]
  }
 ],
 "metadata": {
  "kernelspec": {
   "display_name": "Python [conda env:base] *",
   "language": "python",
   "name": "conda-base-py"
  },
  "language_info": {
   "codemirror_mode": {
    "name": "ipython",
    "version": 3
   },
   "file_extension": ".py",
   "mimetype": "text/x-python",
   "name": "python",
   "nbconvert_exporter": "python",
   "pygments_lexer": "ipython3",
   "version": "3.12.7"
  }
 },
 "nbformat": 4,
 "nbformat_minor": 5
}
