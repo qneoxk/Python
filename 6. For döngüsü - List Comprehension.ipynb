{
 "cells": [
  {
   "cell_type": "markdown",
   "metadata": {},
   "source": [
    "<span style = \"color : red; font-size: 38px;\"> for döngüsü - for loop  </span>"
   ]
  },
  {
   "cell_type": "markdown",
   "metadata": {},
   "source": [
    "<span style = \"color : red; font-size: 28px;\"> in operatörü  </span>"
   ]
  },
  {
   "cell_type": "code",
   "execution_count": 1,
   "metadata": {},
   "outputs": [
    {
     "data": {
      "text/plain": [
       "True"
      ]
     },
     "execution_count": 1,
     "metadata": {},
     "output_type": "execute_result"
    }
   ],
   "source": [
    "5 in [1, 2, 3, 4, 5, 6]"
   ]
  },
  {
   "cell_type": "code",
   "execution_count": 2,
   "metadata": {},
   "outputs": [
    {
     "data": {
      "text/plain": [
       "False"
      ]
     },
     "execution_count": 2,
     "metadata": {},
     "output_type": "execute_result"
    }
   ],
   "source": [
    "9 in [1, 2, 3, 4, 5, 6]"
   ]
  },
  {
   "cell_type": "code",
   "execution_count": 3,
   "metadata": {},
   "outputs": [
    {
     "data": {
      "text/plain": [
       "True"
      ]
     },
     "execution_count": 3,
     "metadata": {},
     "output_type": "execute_result"
    }
   ],
   "source": [
    "\"p\" in \"python\""
   ]
  },
  {
   "cell_type": "code",
   "execution_count": 4,
   "metadata": {},
   "outputs": [
    {
     "data": {
      "text/plain": [
       "False"
      ]
     },
     "execution_count": 4,
     "metadata": {},
     "output_type": "execute_result"
    }
   ],
   "source": [
    "\"P\" in \"python\""
   ]
  },
  {
   "cell_type": "markdown",
   "metadata": {},
   "source": [
    "<span style = \"color : red; font-size: 28px;\"> for operatörü in ile kullanılır </span>"
   ]
  },
  {
   "cell_type": "code",
   "execution_count": 5,
   "metadata": {},
   "outputs": [
    {
     "name": "stdout",
     "output_type": "stream",
     "text": [
      "1\n",
      "2\n",
      "3\n",
      "4\n",
      "5\n",
      "6\n"
     ]
    }
   ],
   "source": [
    "liste = [1, 2, 3, 4, 5, 6]\n",
    "\n",
    "for i in liste:\n",
    "    print(i)"
   ]
  },
  {
   "cell_type": "code",
   "execution_count": 6,
   "metadata": {},
   "outputs": [
    {
     "name": "stdout",
     "output_type": "stream",
     "text": [
      "P\n",
      "y\n",
      "t\n",
      "h\n",
      "o\n",
      "n\n"
     ]
    }
   ],
   "source": [
    "s = \"Python\"\n",
    "\n",
    "for j in s:\n",
    "    print(j)"
   ]
  },
  {
   "cell_type": "code",
   "execution_count": 7,
   "metadata": {},
   "outputs": [
    {
     "name": "stdout",
     "output_type": "stream",
     "text": [
      "1\n",
      "2\n",
      "3\n",
      "4\n",
      "5\n",
      "6\n"
     ]
    }
   ],
   "source": [
    "tup = (1, 2, 3, 4, 5, 6)\n",
    "\n",
    "for i in tup:\n",
    "    print(i)"
   ]
  },
  {
   "cell_type": "code",
   "execution_count": 8,
   "metadata": {},
   "outputs": [
    {
     "name": "stdout",
     "output_type": "stream",
     "text": [
      "1\n",
      "4\n",
      "9\n",
      "16\n",
      "25\n",
      "36\n"
     ]
    }
   ],
   "source": [
    "liste = [1, 2, 3, 4, 5, 6]\n",
    "\n",
    "for i in liste:\n",
    "    print(i ** 2)"
   ]
  },
  {
   "cell_type": "code",
   "execution_count": 9,
   "metadata": {},
   "outputs": [
    {
     "data": {
      "text/plain": [
       "{'a': 1, 'b': 2, 'c': 3, 'd': 4, 'sene': '1945'}"
      ]
     },
     "execution_count": 9,
     "metadata": {},
     "output_type": "execute_result"
    }
   ],
   "source": [
    "sözlük1 = {\"a\":1, \"b\":2, \"c\":3, \"d\":4, \"sene\":\"1945\"}\n",
    "sözlük1"
   ]
  },
  {
   "cell_type": "code",
   "execution_count": 10,
   "metadata": {},
   "outputs": [
    {
     "name": "stdout",
     "output_type": "stream",
     "text": [
      "a\n",
      "b\n",
      "c\n",
      "d\n",
      "sene\n"
     ]
    }
   ],
   "source": [
    "for x in sözlük1:\n",
    "    print(x)"
   ]
  },
  {
   "cell_type": "code",
   "execution_count": 11,
   "metadata": {},
   "outputs": [
    {
     "name": "stdout",
     "output_type": "stream",
     "text": [
      "a\n",
      "b\n",
      "c\n",
      "d\n",
      "sene\n"
     ]
    }
   ],
   "source": [
    "for x in sözlük1.keys():\n",
    "    print(x)"
   ]
  },
  {
   "cell_type": "code",
   "execution_count": 12,
   "metadata": {},
   "outputs": [
    {
     "name": "stdout",
     "output_type": "stream",
     "text": [
      "1\n",
      "2\n",
      "3\n",
      "4\n",
      "1945\n"
     ]
    }
   ],
   "source": [
    "for x in sözlük1.values():\n",
    "    print(x)"
   ]
  },
  {
   "cell_type": "code",
   "execution_count": 13,
   "metadata": {},
   "outputs": [
    {
     "data": {
      "text/plain": [
       "dict_items([('a', 1), ('b', 2), ('c', 3), ('d', 4), ('sene', '1945')])"
      ]
     },
     "execution_count": 13,
     "metadata": {},
     "output_type": "execute_result"
    }
   ],
   "source": [
    "sözlük1.items()"
   ]
  },
  {
   "cell_type": "code",
   "execution_count": 14,
   "metadata": {
    "scrolled": true
   },
   "outputs": [
    {
     "name": "stdout",
     "output_type": "stream",
     "text": [
      "a  \t 1\n",
      "b  \t 2\n",
      "c  \t 3\n",
      "d  \t 4\n",
      "sene  \t 1945\n"
     ]
    }
   ],
   "source": [
    "for x, y in sözlük1.items():\n",
    "    print(x,\" \\t\", y)"
   ]
  },
  {
   "cell_type": "code",
   "execution_count": 15,
   "metadata": {},
   "outputs": [
    {
     "data": {
      "text/plain": [
       "[1, 2, 3, 4, 5, 6]"
      ]
     },
     "execution_count": 15,
     "metadata": {},
     "output_type": "execute_result"
    }
   ],
   "source": [
    "liste"
   ]
  },
  {
   "cell_type": "code",
   "execution_count": 16,
   "metadata": {},
   "outputs": [
    {
     "name": "stdout",
     "output_type": "stream",
     "text": [
      "liste elemanlarının toplamı: 21\n"
     ]
    }
   ],
   "source": [
    "toplam = 0 \n",
    "\n",
    "for i in liste:\n",
    "    toplam = toplam + i\n",
    "    \n",
    "print(\"liste elemanlarının toplamı:\", toplam)"
   ]
  },
  {
   "cell_type": "code",
   "execution_count": 17,
   "metadata": {},
   "outputs": [
    {
     "name": "stdout",
     "output_type": "stream",
     "text": [
      "liste elemanlarının toplamı : 21\n"
     ]
    }
   ],
   "source": [
    "print(\"liste elemanlarının toplamı :\", sum(liste))"
   ]
  },
  {
   "cell_type": "code",
   "execution_count": 18,
   "metadata": {},
   "outputs": [
    {
     "name": "stdout",
     "output_type": "stream",
     "text": [
      "index: \t 0 \teleman : 1 \t toplam : 1\n",
      "index: \t 1 \teleman : 2 \t toplam : 3\n",
      "index: \t 2 \teleman : 3 \t toplam : 6\n",
      "index: \t 3 \teleman : 4 \t toplam : 10\n",
      "index: \t 4 \teleman : 5 \t toplam : 15\n",
      "index: \t 5 \teleman : 6 \t toplam : 21\n",
      "\n",
      "liste elemanlarının toplamı 21 dır.\n"
     ]
    }
   ],
   "source": [
    "toplam = 0 \n",
    "\n",
    "for i in liste:\n",
    "    toplam = toplam + i \n",
    "    print(\"index: \\t {} \\teleman : {} \\t toplam : {}\".format(i-1, i, toplam))\n",
    "    \n",
    "print(F\"\\nliste elemanlarının toplamı {toplam} dır.\")"
   ]
  },
  {
   "cell_type": "code",
   "execution_count": 19,
   "metadata": {},
   "outputs": [
    {
     "name": "stdout",
     "output_type": "stream",
     "text": [
      "7\n",
      "9\n",
      "23\n",
      "35\n",
      "55\n",
      "89\n"
     ]
    }
   ],
   "source": [
    "liste1 = [7, 8, 9, 12, 23, 35, 54, 55, 56, 89]\n",
    "\n",
    "for k in liste1: \n",
    "    if k % 2 == 1:\n",
    "        print(k)"
   ]
  },
  {
   "cell_type": "code",
   "execution_count": 20,
   "metadata": {},
   "outputs": [
    {
     "name": "stdout",
     "output_type": "stream",
     "text": [
      "8\n",
      "12\n",
      "54\n",
      "56\n"
     ]
    }
   ],
   "source": [
    "for k in liste1: \n",
    "    if k % 2 == 0:\n",
    "        print(k)"
   ]
  },
  {
   "cell_type": "code",
   "execution_count": 21,
   "metadata": {},
   "outputs": [
    {
     "data": {
      "text/plain": [
       "[7, 9, 23, 35, 55, 89]"
      ]
     },
     "execution_count": 21,
     "metadata": {},
     "output_type": "execute_result"
    }
   ],
   "source": [
    "liste_tek = []\n",
    "\n",
    "for k in liste1: \n",
    "    if k % 2 == 1:\n",
    "        liste_tek.append(k)\n",
    "\n",
    "liste_tek"
   ]
  },
  {
   "cell_type": "code",
   "execution_count": 22,
   "metadata": {},
   "outputs": [
    {
     "data": {
      "text/plain": [
       "[8, 12, 54, 56]"
      ]
     },
     "execution_count": 22,
     "metadata": {},
     "output_type": "execute_result"
    }
   ],
   "source": [
    "liste_çift = []\n",
    "\n",
    "for k in liste1: \n",
    "    if k % 2 == 0:\n",
    "        liste_çift.append(k)\n",
    "\n",
    "liste_çift"
   ]
  },
  {
   "cell_type": "markdown",
   "metadata": {},
   "source": [
    "Stringler üzerinde gezinmek "
   ]
  },
  {
   "cell_type": "code",
   "execution_count": 23,
   "metadata": {},
   "outputs": [
    {
     "name": "stdout",
     "output_type": "stream",
     "text": [
      "P\n",
      "y\n",
      "t\n",
      "h\n",
      "o\n",
      "n\n"
     ]
    }
   ],
   "source": [
    "s = \"Python\"\n",
    "\n",
    "for j in s:\n",
    "    print(j)"
   ]
  },
  {
   "cell_type": "code",
   "execution_count": 24,
   "metadata": {},
   "outputs": [
    {
     "name": "stdout",
     "output_type": "stream",
     "text": [
      "PP\n",
      "yy\n",
      "tt\n",
      "hh\n",
      "oo\n",
      "nn\n"
     ]
    }
   ],
   "source": [
    "s = \"Python\"\n",
    "\n",
    "for j in s:\n",
    "    print(j + j)"
   ]
  },
  {
   "cell_type": "code",
   "execution_count": 25,
   "metadata": {},
   "outputs": [
    {
     "name": "stdout",
     "output_type": "stream",
     "text": [
      "PPPPPP\n",
      "yyyyyy\n",
      "tttttt\n",
      "hhhhhh\n",
      "oooooo\n",
      "nnnnnn\n"
     ]
    }
   ],
   "source": [
    "s = \"Python\"\n",
    "\n",
    "for j in s:\n",
    "    print(j+j+j+j+j+j)"
   ]
  },
  {
   "cell_type": "code",
   "execution_count": 26,
   "metadata": {},
   "outputs": [
    {
     "name": "stdout",
     "output_type": "stream",
     "text": [
      "PPPPP\n",
      "yyyyy\n",
      "ttttt\n",
      "hhhhh\n",
      "ooooo\n",
      "nnnnn\n"
     ]
    }
   ],
   "source": [
    "s = \"Python\"\n",
    "\n",
    "for j in s:\n",
    "    print(j * 5)"
   ]
  },
  {
   "cell_type": "code",
   "execution_count": 27,
   "metadata": {},
   "outputs": [
    {
     "name": "stdout",
     "output_type": "stream",
     "text": [
      "1\n",
      "2\n",
      "3\n",
      "4\n",
      "5\n",
      "6\n",
      "7\n",
      "8\n",
      "9\n",
      "10\n"
     ]
    }
   ],
   "source": [
    "tuplee = (1, 2, 3, 4, 5, 6, 7, 8, 9, 10)\n",
    "\n",
    "for k in tuplee:\n",
    "    print(k)"
   ]
  },
  {
   "cell_type": "code",
   "execution_count": 28,
   "metadata": {},
   "outputs": [
    {
     "name": "stdout",
     "output_type": "stream",
     "text": [
      "(1, 2)\n",
      "(2, 3)\n",
      "(3, 4)\n",
      "(4, 5)\n",
      "(5, 6)\n"
     ]
    }
   ],
   "source": [
    "liste = [(1, 2), (2, 3), (3, 4), (4, 5), (5, 6)]\n",
    "\n",
    "for i in liste: \n",
    "    print(i)"
   ]
  },
  {
   "cell_type": "code",
   "execution_count": 29,
   "metadata": {},
   "outputs": [
    {
     "name": "stdout",
     "output_type": "stream",
     "text": [
      "1 2\n",
      "2 3\n",
      "3 4\n",
      "4 5\n",
      "5 6\n"
     ]
    }
   ],
   "source": [
    "for (i, j) in liste:\n",
    "    print(i, j)"
   ]
  },
  {
   "cell_type": "code",
   "execution_count": 30,
   "metadata": {},
   "outputs": [
    {
     "data": {
      "text/plain": [
       "[(1, 2), (2, 3), (3, 4), (4, 5), (5, 6)]"
      ]
     },
     "execution_count": 30,
     "metadata": {},
     "output_type": "execute_result"
    }
   ],
   "source": [
    "liste"
   ]
  },
  {
   "cell_type": "code",
   "execution_count": 31,
   "metadata": {},
   "outputs": [
    {
     "name": "stdout",
     "output_type": "stream",
     "text": [
      "i: 1 \tj: 2\n",
      "i: 2 \tj: 3\n",
      "i: 3 \tj: 4\n",
      "i: 4 \tj: 5\n",
      "i: 5 \tj: 6\n"
     ]
    }
   ],
   "source": [
    "for (i, j) in liste:\n",
    "    print(\"i: {} \\tj: {}\".format(i, j))"
   ]
  },
  {
   "cell_type": "code",
   "execution_count": 32,
   "metadata": {},
   "outputs": [
    {
     "name": "stdout",
     "output_type": "stream",
     "text": [
      "2\n",
      "6\n",
      "12\n",
      "20\n",
      "30\n"
     ]
    }
   ],
   "source": [
    "for (i, j) in liste:\n",
    "    print(i * j)"
   ]
  },
  {
   "cell_type": "code",
   "execution_count": 33,
   "metadata": {},
   "outputs": [
    {
     "name": "stdout",
     "output_type": "stream",
     "text": [
      "0 0 0\n",
      "1 2 3\n",
      "4 5 6\n",
      "8 9 0\n",
      "5 6 7\n"
     ]
    }
   ],
   "source": [
    "liste = [(0,0,0), (1,2,3), (4,5,6), (8,9,0), (5,6,7)]\n",
    "\n",
    "for (i, j, k) in liste:\n",
    "    print(i, j, k)"
   ]
  },
  {
   "cell_type": "code",
   "execution_count": 34,
   "metadata": {},
   "outputs": [
    {
     "name": "stdout",
     "output_type": "stream",
     "text": [
      "i: 0 \tj: 0 \tk: 0\n",
      "i: 1 \tj: 2 \tk: 3\n",
      "i: 4 \tj: 5 \tk: 6\n",
      "i: 8 \tj: 9 \tk: 0\n",
      "i: 15 \tj: 16 \tk: 17\n"
     ]
    }
   ],
   "source": [
    "liste = [(0,0,0), (1,2,3), (4,5,6), (8,9,0), (15,16,17)]\n",
    "\n",
    "for (i,j,k) in liste:\n",
    "    print(\"i: {} \\tj: {} \\tk: {}\".format(i,j,k))"
   ]
  },
  {
   "cell_type": "code",
   "execution_count": 35,
   "metadata": {},
   "outputs": [
    {
     "name": "stdout",
     "output_type": "stream",
     "text": [
      "0\n",
      "6\n",
      "15\n",
      "17\n",
      "48\n"
     ]
    }
   ],
   "source": [
    "liste = [(0,0,0), (1,2,3), (4,5,6), (8,9,0), (15,16,17)]\n",
    "\n",
    "for (i,j,k) in liste:\n",
    "    print(i + j + k)"
   ]
  },
  {
   "cell_type": "code",
   "execution_count": 36,
   "metadata": {},
   "outputs": [
    {
     "name": "stdout",
     "output_type": "stream",
     "text": [
      "0\n",
      "6\n",
      "120\n",
      "0\n",
      "4080\n"
     ]
    }
   ],
   "source": [
    "liste = [(0,0,0), (1,2,3), (4,5,6), (8,9,0), (15,16,17)]\n",
    "\n",
    "for (i,j,k) in liste:\n",
    "    print(i * j * k)"
   ]
  },
  {
   "cell_type": "markdown",
   "metadata": {},
   "source": [
    "<span style = \"color : red; font-size: 38px;\"> List Comprehension  </span>"
   ]
  },
  {
   "cell_type": "code",
   "execution_count": 37,
   "metadata": {},
   "outputs": [
    {
     "name": "stdout",
     "output_type": "stream",
     "text": [
      "indis : 0 \teleman: 1 \telemanın 9 katı : 9\n",
      "indis : 1 \teleman: 2 \telemanın 9 katı : 18\n",
      "indis : 2 \teleman: 3 \telemanın 9 katı : 27\n",
      "indis : 3 \teleman: 4 \telemanın 9 katı : 36\n",
      "indis : 4 \teleman: 5 \telemanın 9 katı : 45\n",
      "\n",
      " [9, 18, 27, 36, 45]\n"
     ]
    }
   ],
   "source": [
    "liste1 = [1, 2, 3, 4, 5]\n",
    "\n",
    "liste2 = []\n",
    "\n",
    "for i in liste1:\n",
    "    liste2.append(i * 9)\n",
    "    print(\"indis :\", i-1, \"\\teleman:\", liste1[i-1], \"\\telemanın 9 katı :\", i * 9)\n",
    "print(\"\\n\", liste2)"
   ]
  },
  {
   "cell_type": "code",
   "execution_count": 38,
   "metadata": {},
   "outputs": [
    {
     "data": {
      "text/plain": [
       "[9, 18, 27, 36, 45]"
      ]
     },
     "execution_count": 38,
     "metadata": {},
     "output_type": "execute_result"
    }
   ],
   "source": [
    "liste3 = [i * 9 for i in liste1]\n",
    "liste3"
   ]
  },
  {
   "cell_type": "code",
   "execution_count": 39,
   "metadata": {},
   "outputs": [
    {
     "name": "stdout",
     "output_type": "stream",
     "text": [
      "\n",
      " [1, 4, 9, 16, 25, 36, 49, 81, 100]\n"
     ]
    }
   ],
   "source": [
    "l1 = [1, 2, 3, 4, 5, 6, 7, 9, 10]\n",
    "\n",
    "l2= []\n",
    "\n",
    "for i in l1:\n",
    "    l2.append(i ** 2)\n",
    "    #print(\"indis :\", i-1, \"\\teleman:\", i, \"\\telemanın karesi :\", i ** 2)\n",
    "print(\"\\n\", l2)"
   ]
  },
  {
   "cell_type": "code",
   "execution_count": 40,
   "metadata": {},
   "outputs": [
    {
     "data": {
      "text/plain": [
       "[1, 4, 9, 16, 25, 36, 49, 81, 100]"
      ]
     },
     "execution_count": 40,
     "metadata": {},
     "output_type": "execute_result"
    }
   ],
   "source": [
    "l3 = [i**2 for i in l1]\n",
    "l3"
   ]
  },
  {
   "cell_type": "code",
   "execution_count": 41,
   "metadata": {},
   "outputs": [
    {
     "name": "stdout",
     "output_type": "stream",
     "text": [
      "[2, 12, 30]\n"
     ]
    }
   ],
   "source": [
    "liste = [(1,2), (3,4), (5,6)]\n",
    "\n",
    "liste1 = [i * j for i,j in liste]\n",
    "print(liste1)"
   ]
  },
  {
   "cell_type": "code",
   "execution_count": 42,
   "metadata": {},
   "outputs": [
    {
     "name": "stdout",
     "output_type": "stream",
     "text": [
      "['ppp', 'yyy', 'ttt', 'hhh', 'ooo', 'nnn']\n"
     ]
    }
   ],
   "source": [
    "s = \"python\"\n",
    "\n",
    "liste1 = [i*3 for i in s]\n",
    "print(liste1)"
   ]
  },
  {
   "cell_type": "code",
   "execution_count": 43,
   "metadata": {},
   "outputs": [
    {
     "name": "stdout",
     "output_type": "stream",
     "text": [
      "1\n",
      "2\n",
      "3\n",
      "4\n",
      "5\n",
      "6\n",
      "7\n",
      "8\n",
      "9\n",
      "10\n",
      "11\n",
      "12\n"
     ]
    }
   ],
   "source": [
    "liste = [[1,2,3], [4,5,6,7,8], [9,10,11,12]]\n",
    "\n",
    "for i in liste:\n",
    "    #print(i)\n",
    "    for j in i:\n",
    "        print(j)"
   ]
  },
  {
   "cell_type": "code",
   "execution_count": 44,
   "metadata": {},
   "outputs": [
    {
     "name": "stdout",
     "output_type": "stream",
     "text": [
      "[1, 2, 3, 4, 5, 6, 7, 8, 9, 10, 11, 12]\n"
     ]
    }
   ],
   "source": [
    "liste = [[1,2,3], [4,5,6,7,8], [9,10,11,12]]\n",
    "liste1 = []\n",
    "\n",
    "for i in liste:\n",
    "    for j in i:\n",
    "        liste1.append(j)\n",
    "\n",
    "print(liste1)"
   ]
  },
  {
   "cell_type": "code",
   "execution_count": 45,
   "metadata": {},
   "outputs": [
    {
     "name": "stdout",
     "output_type": "stream",
     "text": [
      "[1, 2, 3, 4, 5, 6, 7, 8, 9, 10, 11, 12]\n"
     ]
    }
   ],
   "source": [
    "liste = [[1,2,3], [4,5,6,7,8], [9,10,11,12]]\n",
    "\n",
    "liste1 = [j for i in liste for j in i]\n",
    "\n",
    "print(liste1)"
   ]
  },
  {
   "cell_type": "markdown",
   "metadata": {},
   "source": [
    "<span style = \"color : red; font-size: 28px;\"> liste içindeki boş elemanları sorgulama </span>"
   ]
  },
  {
   "cell_type": "code",
   "execution_count": 46,
   "metadata": {},
   "outputs": [
    {
     "name": "stdout",
     "output_type": "stream",
     "text": [
      "<class 'str'> içinde eleman yoktur.\n",
      "<class 'list'> içinde eleman yoktur.\n",
      "<class 'dict'> içinde eleman yoktur.\n",
      "<class 'list'> içinde eleman yoktur.\n"
     ]
    }
   ],
   "source": [
    "liste = [ \"\", [ ], { }, [1,2], \"minik\", []]\n",
    "\n",
    "for i in liste:\n",
    "    if not i:\n",
    "        print(f\"{type(i)} içinde eleman yoktur.\")"
   ]
  },
  {
   "cell_type": "markdown",
   "metadata": {},
   "source": [
    "<span style = \"color : red; font-size: 28px;\"> enumarate() </span>"
   ]
  },
  {
   "cell_type": "markdown",
   "metadata": {},
   "source": [
    "<span style = \"color : skyblue; font-size: 18px;\"> enumarate() ile liste ya da tuple içindeki her elemanı index'i ile değerlendirir.  </span>"
   ]
  },
  {
   "cell_type": "code",
   "execution_count": 47,
   "metadata": {},
   "outputs": [
    {
     "data": {
      "text/plain": [
       "['İstanbul', 'İzmir', 'Kars', 'Kastamonu']"
      ]
     },
     "execution_count": 47,
     "metadata": {},
     "output_type": "execute_result"
    }
   ],
   "source": [
    "liste = [\"İstanbul\", \"İzmir\", \"Kars\", \"Kastamonu\"]\n",
    "liste"
   ]
  },
  {
   "cell_type": "code",
   "execution_count": 48,
   "metadata": {},
   "outputs": [
    {
     "name": "stdout",
     "output_type": "stream",
     "text": [
      "0 İstanbul\n",
      "1 İzmir\n",
      "2 Kars\n",
      "3 Kastamonu\n"
     ]
    }
   ],
   "source": [
    "for i, j in enumerate(liste):\n",
    "    print(i,j)"
   ]
  },
  {
   "cell_type": "code",
   "execution_count": 49,
   "metadata": {},
   "outputs": [
    {
     "name": "stdout",
     "output_type": "stream",
     "text": [
      "34 İstanbul\n",
      "35 İzmir\n",
      "36 Kars\n",
      "37 Kastamonu\n"
     ]
    }
   ],
   "source": [
    "for i, j in enumerate(liste, 34):\n",
    "    print(i,j)"
   ]
  },
  {
   "cell_type": "markdown",
   "metadata": {},
   "source": [
    "<span style = \"color : red; font-size: 28px;\"> reversed() </span>"
   ]
  },
  {
   "cell_type": "code",
   "execution_count": 50,
   "metadata": {},
   "outputs": [
    {
     "data": {
      "text/plain": [
       "['Kahve', 'Meyve', 'Tatlı', 'Ana Yemek', 'Çorba', 'Köfte', 'İzmir Köfte']"
      ]
     },
     "execution_count": 50,
     "metadata": {},
     "output_type": "execute_result"
    }
   ],
   "source": [
    "liste = [\"Kahve\",\"Meyve\",\"Tatlı\",\"Ana Yemek\",\"Çorba\", \"Köfte\", \"İzmir Köfte\"]\n",
    "liste"
   ]
  },
  {
   "cell_type": "code",
   "execution_count": 51,
   "metadata": {},
   "outputs": [
    {
     "name": "stdout",
     "output_type": "stream",
     "text": [
      "Kahve\n",
      "Meyve\n",
      "Tatlı\n",
      "Ana Yemek\n",
      "Çorba\n",
      "Köfte\n",
      "İzmir Köfte\n"
     ]
    }
   ],
   "source": [
    "for i in liste:\n",
    "    print(i)"
   ]
  },
  {
   "cell_type": "code",
   "execution_count": 52,
   "metadata": {},
   "outputs": [
    {
     "name": "stdout",
     "output_type": "stream",
     "text": [
      "İzmir Köfte\n",
      "Köfte\n",
      "Çorba\n",
      "Ana Yemek\n",
      "Tatlı\n",
      "Meyve\n",
      "Kahve\n"
     ]
    }
   ],
   "source": [
    "for i in liste[::-1]:\n",
    "    print(i)"
   ]
  },
  {
   "cell_type": "code",
   "execution_count": 53,
   "metadata": {},
   "outputs": [
    {
     "name": "stdout",
     "output_type": "stream",
     "text": [
      "İzmir Köfte\n",
      "Köfte\n",
      "Çorba\n",
      "Ana Yemek\n",
      "Tatlı\n",
      "Meyve\n",
      "Kahve\n"
     ]
    }
   ],
   "source": [
    "for i in reversed(liste):\n",
    "    print(i)"
   ]
  },
  {
   "cell_type": "markdown",
   "metadata": {},
   "source": [
    "<span style = \"color : red; font-size: 28px;\"> ileri seviye sayılar </span>"
   ]
  },
  {
   "cell_type": "markdown",
   "metadata": {},
   "source": [
    "<span style = \"color : red; font-size: 28px;\"> 10 tabanından 2 tabanına dönüştürme </span>"
   ]
  },
  {
   "cell_type": "code",
   "execution_count": 54,
   "metadata": {},
   "outputs": [
    {
     "data": {
      "text/plain": [
       "'0b100'"
      ]
     },
     "execution_count": 54,
     "metadata": {},
     "output_type": "execute_result"
    }
   ],
   "source": [
    "bin(4)"
   ]
  },
  {
   "cell_type": "code",
   "execution_count": 55,
   "metadata": {},
   "outputs": [
    {
     "data": {
      "text/plain": [
       "'0b1000'"
      ]
     },
     "execution_count": 55,
     "metadata": {},
     "output_type": "execute_result"
    }
   ],
   "source": [
    "bin(8)"
   ]
  },
  {
   "cell_type": "markdown",
   "metadata": {},
   "source": [
    "<span style = \"color : red; font-size: 28px;\"> 10 tabanında 16 tabanına dönüştürme </span>"
   ]
  },
  {
   "cell_type": "code",
   "execution_count": 56,
   "metadata": {},
   "outputs": [
    {
     "data": {
      "text/plain": [
       "'0x10'"
      ]
     },
     "execution_count": 56,
     "metadata": {},
     "output_type": "execute_result"
    }
   ],
   "source": [
    "hex(16)"
   ]
  },
  {
   "cell_type": "code",
   "execution_count": 57,
   "metadata": {},
   "outputs": [
    {
     "data": {
      "text/plain": [
       "'0x20'"
      ]
     },
     "execution_count": 57,
     "metadata": {},
     "output_type": "execute_result"
    }
   ],
   "source": [
    "hex(32)"
   ]
  },
  {
   "cell_type": "code",
   "execution_count": 58,
   "metadata": {},
   "outputs": [
    {
     "data": {
      "text/plain": [
       "'0x21'"
      ]
     },
     "execution_count": 58,
     "metadata": {},
     "output_type": "execute_result"
    }
   ],
   "source": [
    "hex(33)"
   ]
  },
  {
   "cell_type": "markdown",
   "metadata": {},
   "source": [
    "<span style = \"color : red; font-size: 28px;\"> Sayılarla ilgili fonksiyonlar </span>"
   ]
  },
  {
   "cell_type": "markdown",
   "metadata": {},
   "source": [
    "<span style = \"color : red; font-size: 22px;\"> Mutlak değer abs() </span>"
   ]
  },
  {
   "cell_type": "code",
   "execution_count": 59,
   "metadata": {},
   "outputs": [
    {
     "data": {
      "text/plain": [
       "7"
      ]
     },
     "execution_count": 59,
     "metadata": {},
     "output_type": "execute_result"
    }
   ],
   "source": [
    "abs(-7)"
   ]
  },
  {
   "cell_type": "markdown",
   "metadata": {},
   "source": [
    "<span style = \"color : red; font-size: 22px;\"> Yuvarlama round() </span>"
   ]
  },
  {
   "cell_type": "code",
   "execution_count": 60,
   "metadata": {},
   "outputs": [
    {
     "data": {
      "text/plain": [
       "5"
      ]
     },
     "execution_count": 60,
     "metadata": {},
     "output_type": "execute_result"
    }
   ],
   "source": [
    "round(4.9)"
   ]
  },
  {
   "cell_type": "code",
   "execution_count": 61,
   "metadata": {},
   "outputs": [
    {
     "data": {
      "text/plain": [
       "4"
      ]
     },
     "execution_count": 61,
     "metadata": {},
     "output_type": "execute_result"
    }
   ],
   "source": [
    "round(4.5)"
   ]
  },
  {
   "cell_type": "code",
   "execution_count": 62,
   "metadata": {},
   "outputs": [
    {
     "data": {
      "text/plain": [
       "4.68889"
      ]
     },
     "execution_count": 62,
     "metadata": {},
     "output_type": "execute_result"
    }
   ],
   "source": [
    "round(4.6888878887, 5)"
   ]
  },
  {
   "cell_type": "markdown",
   "metadata": {},
   "source": [
    "<span style = \"color : red; font-size: 22px;\"> max() </span>"
   ]
  },
  {
   "cell_type": "code",
   "execution_count": 63,
   "metadata": {},
   "outputs": [
    {
     "data": {
      "text/plain": [
       "100"
      ]
     },
     "execution_count": 63,
     "metadata": {},
     "output_type": "execute_result"
    }
   ],
   "source": [
    "l = [1, 2, 3, 100]\n",
    "max(l)"
   ]
  },
  {
   "cell_type": "markdown",
   "metadata": {},
   "source": [
    "<span style = \"color : red; font-size: 22px;\"> min() </span>"
   ]
  },
  {
   "cell_type": "code",
   "execution_count": 64,
   "metadata": {},
   "outputs": [
    {
     "data": {
      "text/plain": [
       "1"
      ]
     },
     "execution_count": 64,
     "metadata": {},
     "output_type": "execute_result"
    }
   ],
   "source": [
    "min(l)"
   ]
  },
  {
   "cell_type": "markdown",
   "metadata": {},
   "source": [
    "<span style = \"color : red; font-size: 22px;\"> sum() </span>"
   ]
  },
  {
   "cell_type": "code",
   "execution_count": 65,
   "metadata": {},
   "outputs": [
    {
     "data": {
      "text/plain": [
       "106"
      ]
     },
     "execution_count": 65,
     "metadata": {},
     "output_type": "execute_result"
    }
   ],
   "source": [
    "sum(l)"
   ]
  },
  {
   "cell_type": "markdown",
   "metadata": {},
   "source": [
    "<span style = \"color : red; font-size: 22px;\"> pow() </span>"
   ]
  },
  {
   "cell_type": "code",
   "execution_count": 66,
   "metadata": {},
   "outputs": [
    {
     "data": {
      "text/plain": [
       "1.4142135623730951"
      ]
     },
     "execution_count": 66,
     "metadata": {},
     "output_type": "execute_result"
    }
   ],
   "source": [
    "pow(2, 0.5)"
   ]
  },
  {
   "cell_type": "code",
   "execution_count": 67,
   "metadata": {},
   "outputs": [
    {
     "data": {
      "text/plain": [
       "0.7071067811865476"
      ]
     },
     "execution_count": 67,
     "metadata": {},
     "output_type": "execute_result"
    }
   ],
   "source": [
    "pow(1/2, 0.5)"
   ]
  },
  {
   "cell_type": "code",
   "execution_count": 68,
   "metadata": {},
   "outputs": [
    {
     "data": {
      "text/plain": [
       "0.70711"
      ]
     },
     "execution_count": 68,
     "metadata": {},
     "output_type": "execute_result"
    }
   ],
   "source": [
    "round(pow(1/2, 0.5), 5)"
   ]
  },
  {
   "cell_type": "code",
   "execution_count": null,
   "metadata": {},
   "outputs": [],
   "source": []
  }
 ],
 "metadata": {
  "kernelspec": {
   "display_name": "Python [conda env:base] *",
   "language": "python",
   "name": "conda-base-py"
  },
  "language_info": {
   "codemirror_mode": {
    "name": "ipython",
    "version": 3
   },
   "file_extension": ".py",
   "mimetype": "text/x-python",
   "name": "python",
   "nbconvert_exporter": "python",
   "pygments_lexer": "ipython3",
   "version": "3.12.7"
  }
 },
 "nbformat": 4,
 "nbformat_minor": 4
}
