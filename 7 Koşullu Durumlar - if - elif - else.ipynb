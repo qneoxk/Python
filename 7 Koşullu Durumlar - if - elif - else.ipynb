{
 "cells": [
  {
   "cell_type": "markdown",
   "metadata": {},
   "source": [
    "<span style = \"color : red; font-size: 38px;\"> Koşullu durumlar if-elif-else  </span>"
   ]
  },
  {
   "cell_type": "markdown",
   "metadata": {},
   "source": [
    "<span style = \"color : skyblue; font-size: 18px;\"> Python Progrmalarının çalışma mantığı Python'da bir program, en üst satırdan başlayarak en alt satıra kadar satır satır işlemleri yapar, artık işlenecek satır kalmadığında program sonlanır. Python'da blok yapısı girintiler sayesinde yapılır.  </span>"
   ]
  },
  {
   "cell_type": "code",
   "execution_count": 1,
   "metadata": {},
   "outputs": [
    {
     "name": "stdout",
     "output_type": "stream",
     "text": [
      "a değişkeninin değeri : 2\n",
      "Maverick\n"
     ]
    }
   ],
   "source": [
    "a = 2 # Blok 1' in kodu \n",
    "\n",
    "if (a == 2):\n",
    "    print(\"a değişkeninin değeri :\", a)  # blok 2\n",
    "\n",
    "print(\"Maverick\") # Blok 1' e ait kod "
   ]
  },
  {
   "cell_type": "code",
   "execution_count": 3,
   "metadata": {},
   "outputs": [],
   "source": [
    "a = 3 # Blok 1' in kodu \n",
    "\n",
    "if (a == 2):\n",
    "    print(a)  # blok 2\n",
    "    print(\"Maverick\") # Blok 2' e ait kod "
   ]
  },
  {
   "cell_type": "code",
   "execution_count": 5,
   "metadata": {},
   "outputs": [
    {
     "name": "stdout",
     "output_type": "stream",
     "text": [
      "Maverick\n"
     ]
    }
   ],
   "source": [
    "a = 3 # Blok 1' in kodu \n",
    "\n",
    "if (a == 2):\n",
    "    print(a)  # blok 2\n",
    "    \n",
    "print(\"Maverick\") # Blok 2' e ait kod "
   ]
  },
  {
   "cell_type": "markdown",
   "metadata": {},
   "source": [
    "<span style = \"color : red; font-size: 38px;\"> if blok yapısı </span>"
   ]
  },
  {
   "cell_type": "markdown",
   "metadata": {},
   "source": [
    "<span style = \"color : skyblue; font-size: 18px;\"> if bloğu kullanılırken if(koşul) yapısı kullanılır. Bu koşul herhangi bir karşılaştırma ya da mantıksal değer kullanılmalıdır. if bloğunu açmak için : işareti kullanılır. Daha sonra alt satırdan istenen bilgiler girilir. if bloğu eğer koşul doğru ise çalışır, koşul false ise Python if bloğunu işletmez ve ilk bloktan devam eder.  </span>"
   ]
  },
  {
   "cell_type": "code",
   "execution_count": 9,
   "metadata": {},
   "outputs": [
    {
     "name": "stdin",
     "output_type": "stream",
     "text": [
      "notunuzu giriniz:  59\n"
     ]
    },
    {
     "name": "stdout",
     "output_type": "stream",
     "text": [
      "Dersten geçemezsiniz !\n"
     ]
    }
   ],
   "source": [
    "nt = int(input(\"notunuzu giriniz: \"))\n",
    "\n",
    "if nt < 60: \n",
    "    print(\"Dersten geçemezsiniz !\")"
   ]
  },
  {
   "cell_type": "code",
   "execution_count": null,
   "metadata": {},
   "outputs": [],
   "source": [
    "type(nt)"
   ]
  },
  {
   "cell_type": "code",
   "execution_count": 13,
   "metadata": {},
   "outputs": [
    {
     "name": "stdin",
     "output_type": "stream",
     "text": [
      "notunuzu giriniz:  61\n"
     ]
    },
    {
     "name": "stdout",
     "output_type": "stream",
     "text": [
      "Dersten başarılı bulundunuz\n"
     ]
    }
   ],
   "source": [
    "nt = int(input(\"notunuzu giriniz: \"))\n",
    "\n",
    "if nt < 60: \n",
    "    print(\"Dersten geçemezsiniz !\")\n",
    "else:\n",
    "    print(\"Dersten başarılı bulundunuz\")"
   ]
  },
  {
   "cell_type": "code",
   "execution_count": 17,
   "metadata": {},
   "outputs": [
    {
     "name": "stdin",
     "output_type": "stream",
     "text": [
      "sayı :  9\n"
     ]
    },
    {
     "name": "stdout",
     "output_type": "stream",
     "text": [
      "sıfır veya pozitif sayı\n"
     ]
    }
   ],
   "source": [
    "sayı = float(input(\"sayı : \"))\n",
    "\n",
    "if sayı < 0:\n",
    "    print(\"negatif sayı\")\n",
    "else:\n",
    "    print(\"sıfır veya pozitif sayı\")"
   ]
  },
  {
   "cell_type": "markdown",
   "metadata": {},
   "source": [
    "ilk örnekte sayı negatif olduğundan else bloğu, ikinci örnekte de sayı pozitif olduğundan if bloğu çalışmadı. Kullanıcıdan alınan bir sayının 0, pozitif bir sayı ve negatif bir sayı olduğunu tespit eden program aşağıdakilerden hangisidir ?"
   ]
  },
  {
   "cell_type": "code",
   "execution_count": 23,
   "metadata": {},
   "outputs": [
    {
     "name": "stdin",
     "output_type": "stream",
     "text": [
      "Bir sayı giriniz :  3\n"
     ]
    },
    {
     "name": "stdout",
     "output_type": "stream",
     "text": [
      "sayı pozitiftir.\n"
     ]
    }
   ],
   "source": [
    "number = float(input(\"Bir sayı giriniz : \")) # 1. kod bloğu\n",
    "\n",
    "if number >= 0:                            \n",
    "    if number == 0:                  # 2. kod bloğu     \n",
    "        print(\"sayı 0' a eşittir.\")  # 3. kod bloğu\n",
    "    else: \n",
    "        print(\"sayı pozitiftir.\")\n",
    "else:\n",
    "    print(\"sayı negatiftir\")"
   ]
  },
  {
   "cell_type": "markdown",
   "metadata": {},
   "source": [
    "<span style = \"color : red; font-size: 38px;\"> if-elif-else  </span>"
   ]
  },
  {
   "cell_type": "raw",
   "metadata": {},
   "source": [
    "Birden fazla koşulun olduğu durumlarda kullanılan yapıdır. \n",
    "\n",
    "if koşul:\n",
    "    Yapılacak işlemler \n",
    "elif farklı bir koşul: \n",
    "    Yapılacak işlemler \n",
    "elif farklı bir koşul: \n",
    "    // \n",
    "    // \n",
    "else: \n",
    "    Yapılacak işlemler"
   ]
  },
  {
   "cell_type": "code",
   "execution_count": 25,
   "metadata": {},
   "outputs": [
    {
     "name": "stdin",
     "output_type": "stream",
     "text": [
      "notunuzu giriniz:  95\n"
     ]
    },
    {
     "name": "stdout",
     "output_type": "stream",
     "text": [
      "AA\n",
      "BA\n",
      "BB\n",
      "CA\n",
      "CC\n"
     ]
    }
   ],
   "source": [
    "not_ = int(input(\"notunuzu giriniz: \"))\n",
    "\n",
    "if (not_ > 90):\n",
    "    print(\"AA\")\n",
    "if (not_> 85):\n",
    "    print(\"BA\")\n",
    "if (not_ > 80):\n",
    "    print(\"BB\")\n",
    "if (not_> 75):\n",
    "    print(\"CA\")\n",
    "if (not_ > 70):\n",
    "    print(\"CC\") \n",
    "else:\n",
    "    print(\"seneye görüşürüz\") "
   ]
  },
  {
   "cell_type": "raw",
   "metadata": {},
   "source": [
    "elif blokları, if bloğundaki koşul sağlanmazsa çalışır. Fakat if bloğu üst satırları kontrol etmez. Örnek olarak hemen yukarıdaki prograda elif blokları if yapılırsa: "
   ]
  },
  {
   "cell_type": "code",
   "execution_count": 29,
   "metadata": {},
   "outputs": [
    {
     "name": "stdin",
     "output_type": "stream",
     "text": [
      "notunuzu giriniz  86\n"
     ]
    },
    {
     "name": "stdout",
     "output_type": "stream",
     "text": [
      "BA\n"
     ]
    }
   ],
   "source": [
    "not_ = float(input(\"notunuzu giriniz \"))\n",
    "\n",
    "if (not_ > 90):\n",
    "    print(\"AA\")\n",
    "elif (not_> 85):\n",
    "    print(\"BA\")\n",
    "elif (not_ > 80):\n",
    "    print(\"BB\")\n",
    "elif (not_> 75):\n",
    "    print(\"CA\")\n",
    "elif (not_ > 70):\n",
    "    print(\"CC\") \n",
    "else:\n",
    "    print(\"seneye görüşürüz\") "
   ]
  },
  {
   "cell_type": "code",
   "execution_count": 35,
   "metadata": {},
   "outputs": [
    {
     "name": "stdin",
     "output_type": "stream",
     "text": [
      "işlem numarası giriniz:  x\n"
     ]
    },
    {
     "name": "stdout",
     "output_type": "stream",
     "text": [
      "tanımsız sayı girildi\n"
     ]
    }
   ],
   "source": [
    "islem = input(\"işlem numarası giriniz: \")\n",
    "\n",
    "if islem == \"1\": \n",
    "    print(\"işlem 1 seçildi\")\n",
    "elif islem == \"2\":\n",
    "    print(\"işlem 2 seçildi\")\n",
    "elif islem == \"3\":\n",
    "    print(\"işlem 3 seçildi\")\n",
    "else:\n",
    "    print(\"tanımsız sayı girildi\")"
   ]
  },
  {
   "cell_type": "raw",
   "metadata": {},
   "source": [
    "Yukarıdaki ösnekte, not 88 olduğundan ilk if bloğu çalışmadı. not > 85 olan koşul sağlandı ve sonuç BA ile verildi. Fakat alttaki if blokları, üstteki if bloklarını kontrol etmediğinden ekrana BB, CA ve CC notları da yazdırıldı.\n",
    "elif ve else, üstteki koşullar çalışmadığında göz önüne alınacak koşullarla kullanılır."
   ]
  },
  {
   "cell_type": "code",
   "execution_count": 51,
   "metadata": {},
   "outputs": [
    {
     "data": {
      "text/plain": [
       "[1, 3, 5, 7, 9, 11, 13, 15, 17, 19]"
      ]
     },
     "execution_count": 51,
     "metadata": {},
     "output_type": "execute_result"
    }
   ],
   "source": [
    "l = [i for i in range(1, 21, 2)]\n",
    "l"
   ]
  },
  {
   "cell_type": "code",
   "execution_count": 53,
   "metadata": {},
   "outputs": [],
   "source": [
    "l = [i for i in range(0, 21, 2)]\n",
    "\n",
    "lcift = []\n",
    "ltek = []\n",
    "for i in l:\n",
    "    if (i % 2 == 0):\n",
    "        lcift.append(i)\n",
    "    else:\n",
    "        ltek.append(i)"
   ]
  },
  {
   "cell_type": "code",
   "execution_count": 55,
   "metadata": {},
   "outputs": [
    {
     "data": {
      "text/plain": [
       "[0, 2, 4, 6, 8, 10, 12, 14, 16, 18, 20]"
      ]
     },
     "execution_count": 55,
     "metadata": {},
     "output_type": "execute_result"
    }
   ],
   "source": [
    "lcift"
   ]
  },
  {
   "cell_type": "code",
   "execution_count": 57,
   "metadata": {},
   "outputs": [
    {
     "data": {
      "text/plain": [
       "[]"
      ]
     },
     "execution_count": 57,
     "metadata": {},
     "output_type": "execute_result"
    }
   ],
   "source": [
    "ltek"
   ]
  },
  {
   "cell_type": "markdown",
   "metadata": {},
   "source": [
    "<span style = \"color : red; font-size: 38px;\"> Basit Hesap Makinesi </span>"
   ]
  },
  {
   "cell_type": "code",
   "execution_count": 63,
   "metadata": {},
   "outputs": [
    {
     "name": "stdout",
     "output_type": "stream",
     "text": [
      " ****************************************\n",
      "HESAP Makinesi Programı \n",
      "\n",
      "İşlemler: \n",
      "\n",
      "1. Toplama işlemi \n",
      "2. Çıkarma işlemi \n",
      "3. Çarpma işlemi\n",
      "4. Bölme işlemi \n",
      "\n",
      "***************************************\n",
      "\n"
     ]
    },
    {
     "name": "stdin",
     "output_type": "stream",
     "text": [
      "Birinci sayıyı giriniz =  -9\n",
      "ikinci sayıyı giriniz = -3\n",
      "İşlem numarası giriniz:  3\n"
     ]
    },
    {
     "name": "stdout",
     "output_type": "stream",
     "text": [
      "-9.0 ile -3.0' nin çarpımı = 27.0' dir\n"
     ]
    }
   ],
   "source": [
    "print(\"\"\" ****************************************\n",
    "HESAP Makinesi Programı \n",
    "\n",
    "İşlemler: \n",
    "\n",
    "1. Toplama işlemi \n",
    "2. Çıkarma işlemi \n",
    "3. Çarpma işlemi\n",
    "4. Bölme işlemi \n",
    "\n",
    "***************************************\n",
    "\"\"\")\n",
    "\n",
    "x = float(input(\"Birinci sayıyı giriniz = \"))\n",
    "y = float(input(\"ikinci sayıyı giriniz =\"))\n",
    "\n",
    "işlem = input(\"İşlem numarası giriniz: \")\n",
    "\n",
    "if  işlem == \"1\":\n",
    "    print(\"{} ile {}' in toplamı = {}' dir\".format(x, y, x + y))\n",
    "elif işlem == \"2\":\n",
    "    print(\"{} ile {}' nin farkı = {}' dir\".format(x, y, x - y))\n",
    "elif işlem == \"3\":\n",
    "    print(\"{} ile {}' nin çarpımı = {}' dir\".format(x, y, x * y))\n",
    "elif işlem == \"4\":\n",
    "    print(\"{} ile {}' nin bölümü = {}' dir\".format(x, y, x / y))\n",
    "else:\n",
    "    print(\"farklı biri işlem numarası giridniz\")"
   ]
  },
  {
   "cell_type": "code",
   "execution_count": null,
   "metadata": {},
   "outputs": [],
   "source": []
  }
 ],
 "metadata": {
  "kernelspec": {
   "display_name": "Python [conda env:base] *",
   "language": "python",
   "name": "conda-base-py"
  },
  "language_info": {
   "codemirror_mode": {
    "name": "ipython",
    "version": 3
   },
   "file_extension": ".py",
   "mimetype": "text/x-python",
   "name": "python",
   "nbconvert_exporter": "python",
   "pygments_lexer": "ipython3",
   "version": "3.12.7"
  }
 },
 "nbformat": 4,
 "nbformat_minor": 4
}
