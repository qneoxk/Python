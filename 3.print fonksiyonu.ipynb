{
 "cells": [
  {
   "cell_type": "markdown",
   "id": "b7556e53-3d4e-422e-bea4-e82139435cc8",
   "metadata": {},
   "source": [
    "<span style = \"color : red; font-size: 32px;\"> print() fonksiyonunun özellikleri </span>"
   ]
  },
  {
   "cell_type": "code",
   "execution_count": 1,
   "id": "1933bfc9-1ef0-4118-b5c7-707e85ef608f",
   "metadata": {},
   "outputs": [
    {
     "data": {
      "text/plain": [
       "'Python'"
      ]
     },
     "execution_count": 1,
     "metadata": {},
     "output_type": "execute_result"
    }
   ],
   "source": [
    "x = \"Python\"\n",
    "x"
   ]
  },
  {
   "cell_type": "code",
   "execution_count": 2,
   "id": "597b6822-2a11-4532-ba47-828e9232eabc",
   "metadata": {},
   "outputs": [
    {
     "name": "stdout",
     "output_type": "stream",
     "text": [
      "Python\n"
     ]
    }
   ],
   "source": [
    "print(x)"
   ]
  },
  {
   "cell_type": "code",
   "execution_count": 3,
   "id": "c0037155-3982-4176-bfe8-b41342b8030f",
   "metadata": {},
   "outputs": [
    {
     "name": "stdout",
     "output_type": "stream",
     "text": [
      "2\n"
     ]
    }
   ],
   "source": [
    "print(1 + 1)"
   ]
  },
  {
   "cell_type": "code",
   "execution_count": 4,
   "id": "955b0626-efbd-427f-88a1-077c3173a63e",
   "metadata": {},
   "outputs": [
    {
     "name": "stdout",
     "output_type": "stream",
     "text": [
      "10.0\n"
     ]
    }
   ],
   "source": [
    "print(100 ** (1/2))"
   ]
  },
  {
   "cell_type": "code",
   "execution_count": 5,
   "id": "16378a57-bb69-4f19-a5a1-20dd638eaeed",
   "metadata": {},
   "outputs": [
    {
     "name": "stdout",
     "output_type": "stream",
     "text": [
      "Vatanını en çok seven, görevini en iyi yapandır. Mustafa Kemal Atatürk\n"
     ]
    }
   ],
   "source": [
    "print(\"Vatanını en çok seven, görevini en iyi yapandır. Mustafa Kemal Atatürk\")"
   ]
  },
  {
   "cell_type": "code",
   "execution_count": 6,
   "id": "7e65808e-9f91-4156-8e8a-fe8a91bfe5a0",
   "metadata": {},
   "outputs": [
    {
     "name": "stdout",
     "output_type": "stream",
     "text": [
      "Vatanını en çok seven, görevini en iyi yapandır.\n",
      "Mustafa Kemal Atatürk\n"
     ]
    }
   ],
   "source": [
    "print(\"Vatanını en çok seven, görevini en iyi yapandır.\\nMustafa Kemal Atatürk\")"
   ]
  },
  {
   "cell_type": "code",
   "execution_count": 7,
   "id": "f61e580c-e08a-4ea3-b688-b427342979ac",
   "metadata": {},
   "outputs": [
    {
     "name": "stdout",
     "output_type": "stream",
     "text": [
      "Vatanını en çok seven, görevini en iyi yapandır.\n",
      "\t\t\t\t\t\tMustafa Kemal Atatürk\n"
     ]
    }
   ],
   "source": [
    "print(\"Vatanını en çok seven, görevini en iyi yapandır.\\n\\t\\t\\t\\t\\t\\tMustafa Kemal Atatürk\")"
   ]
  },
  {
   "cell_type": "code",
   "execution_count": 8,
   "id": "729d01b7-926a-4f6a-ba66-6f050007146a",
   "metadata": {},
   "outputs": [
    {
     "name": "stdout",
     "output_type": "stream",
     "text": [
      "3.14 Python öğreniyoruz 1000\n"
     ]
    }
   ],
   "source": [
    "print(3.14, \"Python öğreniyoruz\", 10**3)"
   ]
  },
  {
   "cell_type": "markdown",
   "id": "d7ffc67d-1e45-41a8-ba6b-4938e86bfa32",
   "metadata": {},
   "source": [
    "<span style = \"color : red; font-size: 32px;\"> sep parametresi </span>"
   ]
  },
  {
   "cell_type": "code",
   "execution_count": 9,
   "id": "c1ff57a1-e806-4112-a66d-4c86e76449c8",
   "metadata": {},
   "outputs": [
    {
     "name": "stdout",
     "output_type": "stream",
     "text": [
      "3.14 56 FB 792.14\n"
     ]
    }
   ],
   "source": [
    "print(3.14,56,\"FB\",792.14)"
   ]
  },
  {
   "cell_type": "code",
   "execution_count": 10,
   "id": "3e49217f-e8b7-4824-ace0-d14be4ac0f40",
   "metadata": {},
   "outputs": [
    {
     "name": "stdout",
     "output_type": "stream",
     "text": [
      "3.14 . 56 . FB . 792.14\n"
     ]
    }
   ],
   "source": [
    "print(3.14,56,\"FB\",792.14, sep = \" . \")"
   ]
  },
  {
   "cell_type": "code",
   "execution_count": 11,
   "id": "0f561101-8351-4fe0-99a9-55be83dfb61f",
   "metadata": {},
   "outputs": [
    {
     "name": "stdout",
     "output_type": "stream",
     "text": [
      "Erol\n",
      "Evgin\n"
     ]
    }
   ],
   "source": [
    "print(\"Erol\",\"Evgin\", sep = \"\\n\")"
   ]
  },
  {
   "cell_type": "code",
   "execution_count": 12,
   "id": "72e5255c-d106-42a3-a281-fc52a8349947",
   "metadata": {},
   "outputs": [
    {
     "name": "stdout",
     "output_type": "stream",
     "text": [
      "Erol\tEvgin\n"
     ]
    }
   ],
   "source": [
    "print(\"Erol\",\"Evgin\", sep = \"\\t\")"
   ]
  },
  {
   "cell_type": "markdown",
   "id": "569d4665-787f-4e30-9c8b-56d232e75660",
   "metadata": {},
   "source": [
    "<span style = \"color : red; font-size: 32px;\"> * parametresi </span>"
   ]
  },
  {
   "cell_type": "code",
   "execution_count": 13,
   "id": "c9d67ad5-dc1d-4b83-99e4-1e7acb6780c6",
   "metadata": {},
   "outputs": [
    {
     "name": "stdout",
     "output_type": "stream",
     "text": [
      "Python\n"
     ]
    }
   ],
   "source": [
    "print(\"Python\")"
   ]
  },
  {
   "cell_type": "code",
   "execution_count": 14,
   "id": "480721db-1c2c-4ad9-b314-ab1cb8df9531",
   "metadata": {},
   "outputs": [
    {
     "name": "stdout",
     "output_type": "stream",
     "text": [
      "P y t h o n\n"
     ]
    }
   ],
   "source": [
    "print(* \"Python\")"
   ]
  },
  {
   "cell_type": "code",
   "execution_count": 15,
   "id": "108853e4-22d0-4d48-9d58-7ffb7860fe2e",
   "metadata": {},
   "outputs": [
    {
     "name": "stdout",
     "output_type": "stream",
     "text": [
      "B J K\n",
      "B.J.K.\n"
     ]
    }
   ],
   "source": [
    "print(\"B\",\"J\",\"K\")\n",
    "print(\"B\",\"J\",\"K\", \"\", sep =\".\")"
   ]
  },
  {
   "cell_type": "code",
   "execution_count": 16,
   "id": "d0a1b9bc-b7c9-41fb-b75b-6721fe84bd00",
   "metadata": {},
   "outputs": [
    {
     "name": "stdout",
     "output_type": "stream",
     "text": [
      "B.J.K. \n"
     ]
    }
   ],
   "source": [
    "print(*\"BJK \", sep =\".\")"
   ]
  },
  {
   "cell_type": "markdown",
   "id": "8fe4aeb8-0a06-428d-a0d1-6ba71e7e7636",
   "metadata": {},
   "source": [
    "<span style = \"color : red; font-size: 32px;\"> Çıkış formatlama </span>"
   ]
  },
  {
   "cell_type": "code",
   "execution_count": 17,
   "id": "03d5fa60-d0fd-4c72-a9e0-55ac8eaea38c",
   "metadata": {},
   "outputs": [
    {
     "data": {
      "text/plain": [
       "'3.14, 9, 1001'"
      ]
     },
     "execution_count": 17,
     "metadata": {},
     "output_type": "execute_result"
    }
   ],
   "source": [
    "# Belirli sayıdaki süslü parantez {} kullanılarak aynı sayıdaki nicelik \n",
    "# süslü parantezlerle yer değiştirilerek yazdılır \n",
    "\n",
    "\"{}, {}, {}\".format(3.14, 9, 1001)"
   ]
  },
  {
   "cell_type": "code",
   "execution_count": 18,
   "id": "0d3d89da-35be-41b3-a241-02414d9162f2",
   "metadata": {},
   "outputs": [
    {
     "data": {
      "text/plain": [
       "'3.1491001'"
      ]
     },
     "execution_count": 18,
     "metadata": {},
     "output_type": "execute_result"
    }
   ],
   "source": [
    "\"{}{}{}\".format(3.14,9,1001)"
   ]
  },
  {
   "cell_type": "code",
   "execution_count": 19,
   "id": "4d6e7df8-d09d-4b31-a7aa-06d3e39f5ca0",
   "metadata": {},
   "outputs": [
    {
     "data": {
      "text/plain": [
       "'3.14 9 1001'"
      ]
     },
     "execution_count": 19,
     "metadata": {},
     "output_type": "execute_result"
    }
   ],
   "source": [
    "\"{} {} {}\".format(3.14,9,1001)"
   ]
  },
  {
   "cell_type": "code",
   "execution_count": 20,
   "id": "b630d118-1e7f-4707-9096-d40e467278af",
   "metadata": {},
   "outputs": [
    {
     "name": "stdout",
     "output_type": "stream",
     "text": [
      "9 + 19 'un toplamı 28'dir.\n"
     ]
    }
   ],
   "source": [
    "x = 9\n",
    "y = 19\n",
    "\n",
    "print(\"{} + {} 'un toplamı {}'dir.\".format(x, y, x + y ))"
   ]
  },
  {
   "cell_type": "code",
   "execution_count": 21,
   "id": "78245341-680c-4158-9704-06f700048813",
   "metadata": {},
   "outputs": [
    {
     "data": {
      "text/plain": [
       "'Türk Öğün Çalış Güven'"
      ]
     },
     "execution_count": 21,
     "metadata": {},
     "output_type": "execute_result"
    }
   ],
   "source": [
    "# Süslü parantez içine sayılar yazılırsa, bu indeks numaralarına karşı gelir\n",
    "# format içindeki dizi, indeks numaralarına göre parantezlerle yer değişir. \n",
    "\n",
    "\"{2} {1} {0} {3}\".format(\"Çalış\",\"Öğün\",\"Türk\",\"Güven\")"
   ]
  },
  {
   "cell_type": "code",
   "execution_count": 22,
   "id": "418f4cce-4ddb-4e9e-8202-680416c8b0c3",
   "metadata": {},
   "outputs": [
    {
     "data": {
      "text/plain": [
       "'3.14 - 3.1416 - 3.14159265'"
      ]
     },
     "execution_count": 22,
     "metadata": {},
     "output_type": "execute_result"
    }
   ],
   "source": [
    "# Sülü parantezin aşağıdaki gibi kullanımında, ondalıklı sayıların \n",
    "# belirtilen basamak sayısıyla yazılması sağlanır\n",
    "\n",
    "\"{:.2f} - {:.4f} - {:.8f}\".format(3.14159265358979, 3.14159265358979, 3.14159265358979, 3.14159265358979)"
   ]
  },
  {
   "cell_type": "markdown",
   "id": "fd2cdb33-a2d7-43af-9dde-5013bd6d6ad9",
   "metadata": {},
   "source": [
    "<span style = \"color : red; font-size: 32px;\"> f string </span>"
   ]
  },
  {
   "cell_type": "markdown",
   "id": "107e7ec3-f6a5-4843-b1d3-e89e9a4ac507",
   "metadata": {},
   "source": [
    "> <span style=\"font-size: 20px; color: lightgreen; \">\n",
    "> 📌 f-string, karakter dizilerini biçimlendirmek için kullanılan bir yöntemdir.<br>\n",
    "> ☀️ f-string kullanmak için, karakter dizisinin başına f veya F harfi eklenir. <br>\n",
    "> 🧬 Böylece Python, karakter dizisinin normal bir karakter dizisi olmadığını ve içindeki süslü parantezler ({}) arasındaki ifadeleri değerlendirmesi gerektiğini anlar. <br>\n",
    "> ✨ f-string, format() fonksiyonuna benzer bir işlev görür, ancak daha kısa ve daha okunaklı bir yazım sunar.\n",
    "> </span>"
   ]
  },
  {
   "cell_type": "code",
   "execution_count": 23,
   "id": "234f1bf8-cff5-482d-aedb-a4e2d0f55f93",
   "metadata": {},
   "outputs": [
    {
     "name": "stdout",
     "output_type": "stream",
     "text": [
      "3 sayısının karesi 9' dur.\n"
     ]
    }
   ],
   "source": [
    "x = 3\n",
    "y = x**2\n",
    "\n",
    "print(f\"{x} sayısının karesi {y}' dur.\")"
   ]
  },
  {
   "cell_type": "code",
   "execution_count": 24,
   "id": "b3ec3711-efaf-4a3a-be21-7ec449f79c9c",
   "metadata": {},
   "outputs": [
    {
     "name": "stdout",
     "output_type": "stream",
     "text": [
      "x = 8 ve y = 16 olarak tanımlanmıştır.\n"
     ]
    }
   ],
   "source": [
    "x, y = 8, 16\n",
    "print(f\"x = {x} ve y = {y} olarak tanımlanmıştır.\")"
   ]
  },
  {
   "cell_type": "code",
   "execution_count": 25,
   "id": "210d0db7-eaf9-4055-888e-54eec11d6931",
   "metadata": {},
   "outputs": [
    {
     "name": "stdout",
     "output_type": "stream",
     "text": [
      "💻 Kod bloğu başladı\n",
      "❌ Hata bulundu\n",
      "✅ Sorun çözüldü\n",
      "🐍 Python\n",
      "🏆 Tebrikler! Görevi başarıyla tamamladın!\n",
      "🎉 Yeni model başarıyla eğitildi!\n",
      "🎯 hedef \n",
      "⚛ Fiziksel denklem: E = mc²\n",
      "🔬 mikroskop \n",
      "π     Yaklaşık π ≈ 3.1416\n",
      "🦋 Canım Trin’in notu: Sevgiyle çalış, aşkla kodla! ❤\n"
     ]
    }
   ],
   "source": [
    "kod_emoji     = \"\\U0001F4BB\"  # 💻\n",
    "hata_emoji    = \"\\u274C\"      # ❌\n",
    "cozum_emoji   = \"\\u2705\"      # ✅\n",
    "python_emoji  = \"🐍\"          # 🐍\n",
    "basari_emoji  = \"\\U0001F3C6\"  # 🏆\n",
    "kutlama_emoji = \"\\U0001F389\"  # 🎉\n",
    "hedef_emoji   = \"\\U0001F3AF\"  # 🎯\n",
    "fizik_emoji   = \"\\u269B\"      # ⚛️\n",
    "mikroskop     = \"\\U0001F52C\"  # 🔬\n",
    "pi_emoji      = \"\\u03C0\"      # π\n",
    "kalp_emoji    = \"\\u2764\"      # ❤️\n",
    "kelebek_emoji = \"🦋\"\n",
    "cupcake_emoji = \"🧁\"\n",
    "cicek_emoji   = \"\\U0001F338\"  # 🌸\n",
    "\n",
    "\n",
    "print(f\"{kod_emoji} Kod bloğu başladı\")\n",
    "print(f\"{hata_emoji} Hata bulundu\")\n",
    "print(f\"{cozum_emoji} Sorun çözüldü\")\n",
    "print(f\"{python_emoji } Python\")\n",
    "print(f\"{basari_emoji} Tebrikler! Görevi başarıyla tamamladın!\")\n",
    "print(f\"{kutlama_emoji} Yeni model başarıyla eğitildi!\")\n",
    "print(f\"{hedef_emoji} hedef \")\n",
    "print(f\"{fizik_emoji} Fiziksel denklem: E = mc²\")\n",
    "print(f\"{mikroskop} mikroskop \")\n",
    "print(f\"{pi_emoji}     Yaklaşık π ≈ 3.1416\")\n",
    "print(f\"{kelebek_emoji} Canım Trin’in notu: Sevgiyle çalış, aşkla kodla! {'\\u2764'}\")"
   ]
  },
  {
   "cell_type": "code",
   "execution_count": null,
   "id": "b1612df7-3aec-49d7-b587-5956d0f4c8b0",
   "metadata": {},
   "outputs": [],
   "source": []
  }
 ],
 "metadata": {
  "kernelspec": {
   "display_name": "Python [conda env:base] *",
   "language": "python",
   "name": "conda-base-py"
  },
  "language_info": {
   "codemirror_mode": {
    "name": "ipython",
    "version": 3
   },
   "file_extension": ".py",
   "mimetype": "text/x-python",
   "name": "python",
   "nbconvert_exporter": "python",
   "pygments_lexer": "ipython3",
   "version": "3.12.7"
  }
 },
 "nbformat": 4,
 "nbformat_minor": 5
}
